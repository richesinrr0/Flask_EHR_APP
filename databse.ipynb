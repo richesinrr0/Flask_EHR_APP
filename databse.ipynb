{
 "cells": [
  {
   "cell_type": "code",
   "execution_count": 16,
   "metadata": {},
   "outputs": [],
   "source": [
    "import sqlite3\n",
    "import pandas as pd"
   ]
  },
  {
   "cell_type": "code",
   "execution_count": null,
   "metadata": {},
   "outputs": [],
   "source": [
    "conn = sqlite3.connect('test_database') \n",
    "c = conn.cursor()\n",
    "\n",
    "c.execute('''\n",
    "          CREATE TABLE IF NOT EXISTS EHR\n",
    "          ([patient_id] INTEGER PRIMARY KEY, [patient_first_name] TEXT, [patient_middle_name] TEXT,\n",
    "          [patient_last_name] TEXT, [pref_name] TEXT, [social] TEXT, [dob] TEXT, [m_address] TEXT,\n",
    "          [city] TEXT, [state] TEXT, [zip] TEXT, [status] TEXT, [sex] TEXT)\n",
    "          ''')"
   ]
  },
  {
   "cell_type": "code",
   "execution_count": 3,
   "metadata": {},
   "outputs": [],
   "source": [
    "conn = sqlite3.connect('test_database') \n",
    "c = conn.cursor()\n",
    "\n",
    "c.execute('''\n",
    "          INSERT INTO EHR (patient_id, patient_first_name, patient_middle_name, patient_last_name,\n",
    "          pref_name, social, dob, m_address, city, state, zip, status, sex)\n",
    "\n",
    "                VALUES\n",
    "                (123349,'robert','mark','johnson','rob','547689325','02/09/1998','92 raleigh','austin',\n",
    "                'tx','26571','single','m')\n",
    "          ''')\n",
    "conn.commit()\n",
    "#make table for insurance\n",
    "#make editable"
   ]
  },
  {
   "cell_type": "code",
   "execution_count": 4,
   "metadata": {},
   "outputs": [
    {
     "data": {
      "text/html": [
       "<div>\n",
       "<style scoped>\n",
       "    .dataframe tbody tr th:only-of-type {\n",
       "        vertical-align: middle;\n",
       "    }\n",
       "\n",
       "    .dataframe tbody tr th {\n",
       "        vertical-align: top;\n",
       "    }\n",
       "\n",
       "    .dataframe thead th {\n",
       "        text-align: right;\n",
       "    }\n",
       "</style>\n",
       "<table border=\"1\" class=\"dataframe\">\n",
       "  <thead>\n",
       "    <tr style=\"text-align: right;\">\n",
       "      <th></th>\n",
       "      <th>patient_id</th>\n",
       "      <th>patient_first_name</th>\n",
       "      <th>patient_middle_name</th>\n",
       "      <th>patient_last_name</th>\n",
       "      <th>pref_name</th>\n",
       "      <th>social</th>\n",
       "      <th>dob</th>\n",
       "      <th>m_address</th>\n",
       "      <th>city</th>\n",
       "      <th>state</th>\n",
       "      <th>zip</th>\n",
       "      <th>status</th>\n",
       "      <th>sex</th>\n",
       "    </tr>\n",
       "  </thead>\n",
       "  <tbody>\n",
       "    <tr>\n",
       "      <th>0</th>\n",
       "      <td>123349</td>\n",
       "      <td>robert</td>\n",
       "      <td>mark</td>\n",
       "      <td>johnson</td>\n",
       "      <td>rob</td>\n",
       "      <td>547689325</td>\n",
       "      <td>02/09/1998</td>\n",
       "      <td>92 raleigh</td>\n",
       "      <td>austin</td>\n",
       "      <td>tx</td>\n",
       "      <td>26571</td>\n",
       "      <td>single</td>\n",
       "      <td>m</td>\n",
       "    </tr>\n",
       "    <tr>\n",
       "      <th>1</th>\n",
       "      <td>123665</td>\n",
       "      <td>john</td>\n",
       "      <td>buck</td>\n",
       "      <td>doe</td>\n",
       "      <td>john</td>\n",
       "      <td>435674326</td>\n",
       "      <td>08/04/2000</td>\n",
       "      <td>201 highland ave</td>\n",
       "      <td>durham</td>\n",
       "      <td>nc</td>\n",
       "      <td>23415</td>\n",
       "      <td>single</td>\n",
       "      <td>m</td>\n",
       "    </tr>\n",
       "  </tbody>\n",
       "</table>\n",
       "</div>"
      ],
      "text/plain": [
       "   patient_id patient_first_name patient_middle_name patient_last_name  \\\n",
       "0      123349             robert                mark           johnson   \n",
       "1      123665               john                buck               doe   \n",
       "\n",
       "  pref_name     social         dob         m_address    city state    zip  \\\n",
       "0       rob  547689325  02/09/1998        92 raleigh  austin    tx  26571   \n",
       "1      john  435674326  08/04/2000  201 highland ave  durham    nc  23415   \n",
       "\n",
       "   status sex  \n",
       "0  single   m  \n",
       "1  single   m  "
      ]
     },
     "execution_count": 4,
     "metadata": {},
     "output_type": "execute_result"
    }
   ],
   "source": [
    "conn = sqlite3.connect('test_database') \n",
    "c = conn.cursor()\n",
    "c.execute('''\n",
    "          SELECT * FROM EHR\n",
    "          ''')\n",
    "\n",
    "df = pd.DataFrame(c.fetchall(), columns=['patient_id', 'patient_first_name', 'patient_middle_name', 'patient_last_name',\n",
    "          'pref_name', 'social', 'dob', 'm_address', 'city', 'state', 'zip', 'status', 'sex'])\n",
    "df"
   ]
  },
  {
   "cell_type": "code",
   "execution_count": 30,
   "metadata": {},
   "outputs": [
    {
     "data": {
      "text/html": [
       "<div>\n",
       "<style scoped>\n",
       "    .dataframe tbody tr th:only-of-type {\n",
       "        vertical-align: middle;\n",
       "    }\n",
       "\n",
       "    .dataframe tbody tr th {\n",
       "        vertical-align: top;\n",
       "    }\n",
       "\n",
       "    .dataframe thead th {\n",
       "        text-align: right;\n",
       "    }\n",
       "</style>\n",
       "<table border=\"1\" class=\"dataframe\">\n",
       "  <thead>\n",
       "    <tr style=\"text-align: right;\">\n",
       "      <th></th>\n",
       "      <th>patient_id</th>\n",
       "      <th>patient_first_name</th>\n",
       "      <th>patient_middle_name</th>\n",
       "      <th>patient_last_name</th>\n",
       "      <th>pref_name</th>\n",
       "      <th>social</th>\n",
       "      <th>dob</th>\n",
       "      <th>m_address</th>\n",
       "      <th>city</th>\n",
       "      <th>state</th>\n",
       "      <th>zip</th>\n",
       "      <th>status</th>\n",
       "      <th>sex</th>\n",
       "    </tr>\n",
       "  </thead>\n",
       "  <tbody>\n",
       "    <tr>\n",
       "      <th>0</th>\n",
       "      <td>123665</td>\n",
       "      <td>john</td>\n",
       "      <td>buck</td>\n",
       "      <td>doe</td>\n",
       "      <td>john</td>\n",
       "      <td>435674326</td>\n",
       "      <td>08/04/2000</td>\n",
       "      <td>201 highland ave</td>\n",
       "      <td>durham</td>\n",
       "      <td>nc</td>\n",
       "      <td>23415</td>\n",
       "      <td>single</td>\n",
       "      <td>m</td>\n",
       "    </tr>\n",
       "  </tbody>\n",
       "</table>\n",
       "</div>"
      ],
      "text/plain": [
       "   patient_id patient_first_name patient_middle_name patient_last_name  \\\n",
       "0      123665               john                buck               doe   \n",
       "\n",
       "  pref_name     social         dob         m_address    city state    zip  \\\n",
       "0      john  435674326  08/04/2000  201 highland ave  durham    nc  23415   \n",
       "\n",
       "   status sex  \n",
       "0  single   m  "
      ]
     },
     "execution_count": 30,
     "metadata": {},
     "output_type": "execute_result"
    }
   ],
   "source": [
    "first_name = 'john'\n",
    "last_name = 'doe'\n",
    "conn = sqlite3.connect('test_database') \n",
    "c = conn.cursor()\n",
    "c.execute(\n",
    "          f' SELECT * FROM EHR WHERE patient_first_name = \"{first_name}\";'\n",
    "          )\n",
    "\n",
    "df = pd.DataFrame(c.fetchall(), columns=['patient_id', 'patient_first_name', 'patient_middle_name', 'patient_last_name',\n",
    "          'pref_name', 'social', 'dob', 'm_address', 'city', 'state', 'zip', 'status', 'sex'])\n",
    "df"
   ]
  },
  {
   "cell_type": "code",
   "execution_count": null,
   "metadata": {},
   "outputs": [],
   "source": []
  }
 ],
 "metadata": {
  "kernelspec": {
   "display_name": "Python 3.10.4 ('ehr')",
   "language": "python",
   "name": "python3"
  },
  "language_info": {
   "codemirror_mode": {
    "name": "ipython",
    "version": 3
   },
   "file_extension": ".py",
   "mimetype": "text/x-python",
   "name": "python",
   "nbconvert_exporter": "python",
   "pygments_lexer": "ipython3",
   "version": "3.10.4"
  },
  "orig_nbformat": 4,
  "vscode": {
   "interpreter": {
    "hash": "601363d1c61e2209eac3ec32d3c1a44dd59f2655f1ede142bd91228995acd555"
   }
  }
 },
 "nbformat": 4,
 "nbformat_minor": 2
}
